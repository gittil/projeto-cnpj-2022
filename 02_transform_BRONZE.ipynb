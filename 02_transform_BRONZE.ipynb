{
 "cells": [
  {
   "cell_type": "code",
   "execution_count": 1,
   "metadata": {},
   "outputs": [],
   "source": [
    "import findspark\n",
    "findspark.init()\n",
    "import pyspark"
   ]
  },
  {
   "cell_type": "code",
   "execution_count": 2,
   "metadata": {},
   "outputs": [],
   "source": [
    "from pyspark.sql import SparkSession\n",
    "from pyspark.sql.types import *\n",
    "from pyspark.sql import functions as Func \n",
    "from pyspark.sql.functions import *\n",
    "import modules\n",
    "from modules.my_func import *"
   ]
  },
  {
   "cell_type": "code",
   "execution_count": 3,
   "metadata": {},
   "outputs": [
    {
     "name": "stderr",
     "output_type": "stream",
     "text": [
      "22/03/29 14:46:24 WARN Utils: Your hostname, gittil resolves to a loopback address: 127.0.1.1; using 192.168.0.15 instead (on interface wlo1)\n",
      "22/03/29 14:46:24 WARN Utils: Set SPARK_LOCAL_IP if you need to bind to another address\n",
      "WARNING: An illegal reflective access operation has occurred\n",
      "WARNING: Illegal reflective access by org.apache.spark.unsafe.Platform (file:/opt/spark/jars/spark-unsafe_2.12-3.2.1.jar) to constructor java.nio.DirectByteBuffer(long,int)\n",
      "WARNING: Please consider reporting this to the maintainers of org.apache.spark.unsafe.Platform\n",
      "WARNING: Use --illegal-access=warn to enable warnings of further illegal reflective access operations\n",
      "WARNING: All illegal access operations will be denied in a future release\n",
      "Using Spark's default log4j profile: org/apache/spark/log4j-defaults.properties\n",
      "Setting default log level to \"WARN\".\n",
      "To adjust logging level use sc.setLogLevel(newLevel). For SparkR, use setLogLevel(newLevel).\n",
      "22/03/29 14:46:25 WARN NativeCodeLoader: Unable to load native-hadoop library for your platform... using builtin-java classes where applicable\n"
     ]
    }
   ],
   "source": [
    "spark = SparkSession.builder.master(\"local\").\\\n",
    "    appName(\"CNPJ_bronze\").\\\n",
    "    config(\"spark.executer.memory\",\"1gb\").\\\n",
    "    getOrCreate()"
   ]
  },
  {
   "cell_type": "code",
   "execution_count": 4,
   "metadata": {},
   "outputs": [],
   "source": [
    "path = \"/mnt/883849B43849A1D4/PRJ_CNPJ/new_data/ETL/02.Bronze/ESTABELECIMENTOS/estabelecimentos_full.parquet\""
   ]
  },
  {
   "cell_type": "code",
   "execution_count": 5,
   "metadata": {},
   "outputs": [
    {
     "name": "stderr",
     "output_type": "stream",
     "text": [
      "                                                                                \r"
     ]
    }
   ],
   "source": [
    "df = spark.read.load(path)"
   ]
  },
  {
   "cell_type": "code",
   "execution_count": 6,
   "metadata": {},
   "outputs": [
    {
     "name": "stdout",
     "output_type": "stream",
     "text": [
      "root\n",
      " |-- CNPJ_basico: integer (nullable = true)\n",
      " |-- id_matriz_filial: integer (nullable = true)\n",
      " |-- nome_fantasia: string (nullable = true)\n",
      " |-- sit_cad: string (nullable = true)\n",
      " |-- dt_cad: integer (nullable = true)\n",
      " |-- mt_sit_cad: integer (nullable = true)\n",
      " |-- dt_inicio_at: integer (nullable = true)\n",
      " |-- cnae_principal: string (nullable = true)\n",
      " |-- cnae_secundario: string (nullable = true)\n",
      " |-- tp_log: string (nullable = true)\n",
      " |-- log: string (nullable = true)\n",
      " |-- nm: string (nullable = true)\n",
      " |-- comp: string (nullable = true)\n",
      " |-- bairro: string (nullable = true)\n",
      " |-- CEP: string (nullable = true)\n",
      " |-- UF: string (nullable = true)\n",
      " |-- municipio: string (nullable = true)\n",
      "\n"
     ]
    }
   ],
   "source": [
    "df.printSchema()"
   ]
  },
  {
   "cell_type": "code",
   "execution_count": 7,
   "metadata": {},
   "outputs": [
    {
     "name": "stderr",
     "output_type": "stream",
     "text": [
      "[Stage 1:>                                                          (0 + 1) / 1]\r"
     ]
    },
    {
     "name": "stdout",
     "output_type": "stream",
     "text": [
      "+-----------+----------------+--------------------+-------+--------+----------+------------+--------------+---------------+-------+--------------------+---+--------------------+----------------+--------+---+---------+\n",
      "|CNPJ_basico|id_matriz_filial|       nome_fantasia|sit_cad|  dt_cad|mt_sit_cad|dt_inicio_at|cnae_principal|cnae_secundario| tp_log|                 log| nm|                comp|          bairro|     CEP| UF|municipio|\n",
      "+-----------+----------------+--------------------+-------+--------+----------+------------+--------------+---------------+-------+--------------------+---+--------------------+----------------+--------+---+---------+\n",
      "|   11124181|               1|        WOG MADEIRAS|     04|20181017|        63|    20090908|       4744002|        4671100|    RUA| 10 CHACARA 148 LOTE| 06|LOJA  01         ...|      TAGUATINGA|72110800| DF|     9701|\n",
      "|   11124191|               1|            PRN RUAS|     04|20190328|        63|    20090909|       4930201|           null|AVENIDA|AVENIDA EUCLIDES ...| SN|  LOTE  34 QUADRA 34|   VILA SAO JOAO|25570162| RJ|     5901|\n",
      "|    2180764|               2|                null|     08|20151208|         1|    20090909|       4784900|           null|    RUA|ROMARIO DE AZERED...| 50|       LOTE  18 QD H|    MANGUEIRINHA|28800000| RJ|     5885|\n",
      "|   11124219|               1|   LAVA JATO ALIANCA|     08|20170511|         1|    20090908|       4520005|           null| QUADRA| SHCS SQ 107 BLOCO A|S/N|      PAG        ...|         ASA SUL|70346500| DF|     9701|\n",
      "|   11124231|               1|VIVARTE EVENTOS E...|     04|20210226|        63|    20090903|       8230001|           null|    RUA|PROFESSOR ANIBAL ...| 64|                null|JARDIM SAO JORGE|04432060| SP|     7107|\n",
      "+-----------+----------------+--------------------+-------+--------+----------+------------+--------------+---------------+-------+--------------------+---+--------------------+----------------+--------+---+---------+\n",
      "only showing top 5 rows\n",
      "\n"
     ]
    },
    {
     "name": "stderr",
     "output_type": "stream",
     "text": [
      "                                                                                \r"
     ]
    }
   ],
   "source": [
    "df.show(5)"
   ]
  },
  {
   "cell_type": "code",
   "execution_count": 8,
   "metadata": {},
   "outputs": [
    {
     "name": "stderr",
     "output_type": "stream",
     "text": [
      "                                                                                \r"
     ]
    },
    {
     "data": {
      "text/plain": [
       "51091268"
      ]
     },
     "execution_count": 8,
     "metadata": {},
     "output_type": "execute_result"
    }
   ],
   "source": [
    "df.count()"
   ]
  },
  {
   "cell_type": "code",
   "execution_count": 15,
   "metadata": {},
   "outputs": [],
   "source": [
    "df = df.na.fill({'cnae_secundario':'N/A','nome_fantasia':'N/I','comp':'N/A'})"
   ]
  },
  {
   "cell_type": "code",
   "execution_count": 21,
   "metadata": {},
   "outputs": [
    {
     "name": "stderr",
     "output_type": "stream",
     "text": [
      "[Stage 10:=====================================================>  (21 + 1) / 22]\r"
     ]
    },
    {
     "name": "stdout",
     "output_type": "stream",
     "text": [
      "+-----------+----------------+--------------------+-------+--------+----------+------------+--------------+--------------------+----------+--------------------+----+--------------------+--------------------+--------+---+---------+\n",
      "|CNPJ_basico|id_matriz_filial|       nome_fantasia|sit_cad|  dt_cad|mt_sit_cad|dt_inicio_at|cnae_principal|     cnae_secundario|    tp_log|                 log|  nm|                comp|              bairro|     CEP| UF|municipio|\n",
      "+-----------+----------------+--------------------+-------+--------+----------+------------+--------------+--------------------+----------+--------------------+----+--------------------+--------------------+--------+---+---------+\n",
      "|   44788661|               1|HERICK DOUGLAS BE...|     02|20220108|         0|    20220108|       5320202|                 N/A|       RUA|ALVARO MEDEIROS S...| 724|                CASA|              AREIAS|88113600| SC|     8327|\n",
      "|   44788650|               1|AUGUSTO BATALHA E...|     02|20220108|         0|    20220108|       5320202|                 N/A|       RUA|        SAO BENEDITO|  18|                 N/A|        SAO BERNARDO|65056200| MA|     0921|\n",
      "|   44788520|               1|          UM UP MOTO|     02|20220108|         0|    20220108|       4530703|4541206,4541207,4...|       RUA|   SEBASTIAO PEREIRA| 298|                CONJ|PARQUE RESIDENCIA...|86077311| PR|     7667|\n",
      "|   44788639|               1|DISTRIBUIDORA DE ...|     02|20220108|         0|    20220108|       4712100|     5612100,4724500|       RUA|C (CJ JOAO PAULO II)| 142|                 N/A|             BARROSO|60863560| CE|     1389|\n",
      "|   44788475|               1|        MARI SANTANA|     02|20220108|         0|    20220108|       8592999|                 N/A|       RUA|          BEIJA-FLOR|  34|                 N/A|      JARDIM BRIQUET|06655260| SP|     6551|\n",
      "|   44788629|               1|      MSD TRANSPORTE|     02|20220108|         0|    20220108|       9609207|     4752100,5229099|       RUA|            SAO LUIZ|   2|           BLOCO 805|               BARRA|40140340| BA|     3849|\n",
      "|   44788553|               1|           LA MOBILE|     02|20220108|         0|    20220108|       4752100|4751201,4753900,4...|       RUA|         CISNE NEGRO|  87|                 N/A|JARDIM SHANGRILA ...|02990110| SP|     7107|\n",
      "|   44788618|               1|         AL SERVICOS|     02|20220108|         0|    20220108|       5320202|             5229099|       RUA|APARECIDA DE LOUR...| 106|TERREO PIZZARIA F...|   PARQUE DAS VINHAS|13295530| SP|     6581|\n",
      "|   44788531|               1|AMANDA DOS SANTOS...|     02|20220108|         0|    20220108|       8599699|             9001902|       RUA|       SAO FRANCISCO| 13B|                 N/A|          OURO PRETO|57045838| AL|     2785|\n",
      "|   44788607|               1|GUSTAVO HENRIQUE ...|     02|20220108|         0|    20220108|       9609299|4723700,4520005,8...|LOTEAMENTO|            QUADRA 7|  35|                CASA|CONDOMINIO BELA V...|72911551| GO|     1052|\n",
      "|   44788574|               1|WALLACE DE PAULA ...|     08|20220108|         1|    20220108|       5320202|             4930201|       RUA|           POMERANIA| 345|                CASA|    JARDIM PRIMAVERA|25223070| RJ|     5833|\n",
      "|   44788509|               1|                 MJS|     02|20220108|         0|    20220108|       4712100|             3101200|       RUA|               JAPAO| 860|                CONJ|            SAO JOAO|97030270| RS|     8841|\n",
      "|   44788585|               1|IMPERIHUM REPRESE...|     02|20220108|         0|    20220108|       4617600|             4619200|       RUA|          SAO MIGUEL| 147|                 N/A|              IGUAPE|45658390| BA|     3573|\n",
      "|   44788597|               1|    SIMPLES E SEGURO|     02|20220108|         0|    20220108|       2539001|                 N/A|       RUA|FIRMINO TIBUCIO D...|  33|                 N/A|         CITROLANDIA|32641746| MG|     4133|\n",
      "|   44788486|               1|            JG GAMES|     02|20220108|         0|    20220108|       4785799|                 N/A|       RUA|    OSVALDO FABRETTI| 335|COND Q;BLOCO 2;AP...|      JARDIM BASSOLI|13058175| SP|     6291|\n",
      "|   44789025|               1|                 N/I|     02|20220108|         0|    20220108|       5212500|                 N/A|       RUA|             ARACAJU| 139|                 N/A|          VILA MARIA|19470000| SP|     6927|\n",
      "|   44788465|               1|   BRAYAN ATACADISTA|     02|20220108|         0|    20220108|       4723700|             4724500|   ESTRADA|            CAMBOATA|3427|              CASA 9|           GUADALUPE|21660005| RJ|     6001|\n",
      "|   44788672|               1|      COMERCIAL HELP|     02|20220108|         0|    20220108|       4755502|4755501,4789099,4...|       RUA|       JOAO EMILIANO|  53|                 N/A|             BRAUNAS|35189000| MG|     4175|\n",
      "|   44788454|               1|TOP EXECUTIVE SER...|     02|20220108|         0|    20220108|       4929901|     7911200,5091202|       RUA|        MENEZES BRUM| 738|                 N/A|           GUADALUPE|21675580| RJ|     6001|\n",
      "|   44788564|               1|THIAGO FEITOSA CO...|     02|20220108|         0|    20220108|       5320202|             4930201|       RUA|                 924| 176|                 N/A|   CONJUNTO CEARA II|60532580| CE|     1389|\n",
      "+-----------+----------------+--------------------+-------+--------+----------+------------+--------------+--------------------+----------+--------------------+----+--------------------+--------------------+--------+---+---------+\n",
      "only showing top 20 rows\n",
      "\n"
     ]
    },
    {
     "name": "stderr",
     "output_type": "stream",
     "text": [
      "                                                                                \r"
     ]
    }
   ],
   "source": [
    "df.orderBy('dt_inicio_at',ascending=False).show()"
   ]
  }
 ],
 "metadata": {
  "interpreter": {
   "hash": "71046af2f65c12de5be553af3af49a03a0746b5ef2338e39a62aea16fa296259"
  },
  "kernelspec": {
   "display_name": "Python 3.10.1 64-bit",
   "language": "python",
   "name": "python3"
  },
  "language_info": {
   "codemirror_mode": {
    "name": "ipython",
    "version": 3
   },
   "file_extension": ".py",
   "mimetype": "text/x-python",
   "name": "python",
   "nbconvert_exporter": "python",
   "pygments_lexer": "ipython3",
   "version": "3.8.10"
  },
  "orig_nbformat": 4
 },
 "nbformat": 4,
 "nbformat_minor": 2
}
