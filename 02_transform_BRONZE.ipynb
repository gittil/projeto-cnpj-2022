{
 "cells": [
  {
   "cell_type": "code",
   "execution_count": 1,
   "metadata": {},
   "outputs": [],
   "source": [
    "import findspark\n",
    "findspark.init()\n",
    "import pyspark"
   ]
  },
  {
   "cell_type": "code",
   "execution_count": 2,
   "metadata": {},
   "outputs": [],
   "source": [
    "from pyspark.sql import SparkSession\n",
    "from pyspark.sql.types import *\n",
    "from pyspark.sql import functions as Func \n",
    "from pyspark.sql.functions import *\n",
    "import modules\n",
    "from modules.my_func import *"
   ]
  },
  {
   "cell_type": "code",
   "execution_count": 4,
   "metadata": {},
   "outputs": [],
   "source": [
    "spark = SparkSession.builder.master(\"local\").\\\n",
    "    appName(\"CNPJ_bronze\").\\\n",
    "    config(\"spark.executer.memory\",\"1gb\").\\\n",
    "    getOrCreate()"
   ]
  },
  {
   "cell_type": "code",
   "execution_count": 5,
   "metadata": {},
   "outputs": [],
   "source": [
    "path = \"/mnt/883849B43849A1D4/PRJ_CNPJ/new_data/ETL/02.Bronze/ESTABELECIMENTOS/estabelecimentos_full.parquet\""
   ]
  },
  {
   "cell_type": "code",
   "execution_count": 6,
   "metadata": {},
   "outputs": [
    {
     "name": "stderr",
     "output_type": "stream",
     "text": [
      "                                                                                \r"
     ]
    }
   ],
   "source": [
    "df = spark.read.load(path)"
   ]
  },
  {
   "cell_type": "code",
   "execution_count": 7,
   "metadata": {},
   "outputs": [
    {
     "name": "stdout",
     "output_type": "stream",
     "text": [
      "root\n",
      " |-- CNPJ_basico: integer (nullable = true)\n",
      " |-- id_matriz_filial: integer (nullable = true)\n",
      " |-- nome_fantasia: string (nullable = true)\n",
      " |-- sit_cad: string (nullable = true)\n",
      " |-- dt_cad: integer (nullable = true)\n",
      " |-- mt_sit_cad: integer (nullable = true)\n",
      " |-- dt_inicio_at: integer (nullable = true)\n",
      " |-- cnae_principal: string (nullable = true)\n",
      " |-- cnae_secundario: string (nullable = true)\n",
      " |-- tp_log: string (nullable = true)\n",
      " |-- log: string (nullable = true)\n",
      " |-- nm: string (nullable = true)\n",
      " |-- comp: string (nullable = true)\n",
      " |-- bairro: string (nullable = true)\n",
      " |-- CEP: string (nullable = true)\n",
      " |-- UF: string (nullable = true)\n",
      " |-- municipio: string (nullable = true)\n",
      "\n"
     ]
    }
   ],
   "source": [
    "df.printSchema()"
   ]
  },
  {
   "cell_type": "code",
   "execution_count": 8,
   "metadata": {},
   "outputs": [
    {
     "name": "stderr",
     "output_type": "stream",
     "text": [
      "                                                                                \r"
     ]
    },
    {
     "name": "stdout",
     "output_type": "stream",
     "text": [
      "+-----------+----------------+--------------------+-------+--------+----------+------------+--------------+---------------+-------+--------------------+---+--------------------+----------------+--------+---+---------+\n",
      "|CNPJ_basico|id_matriz_filial|       nome_fantasia|sit_cad|  dt_cad|mt_sit_cad|dt_inicio_at|cnae_principal|cnae_secundario| tp_log|                 log| nm|                comp|          bairro|     CEP| UF|municipio|\n",
      "+-----------+----------------+--------------------+-------+--------+----------+------------+--------------+---------------+-------+--------------------+---+--------------------+----------------+--------+---+---------+\n",
      "|   11124181|               1|        WOG MADEIRAS|     04|20181017|        63|    20090908|       4744002|        4671100|    RUA| 10 CHACARA 148 LOTE| 06|LOJA  01         ...|      TAGUATINGA|72110800| DF|     9701|\n",
      "|   11124191|               1|            PRN RUAS|     04|20190328|        63|    20090909|       4930201|           null|AVENIDA|AVENIDA EUCLIDES ...| SN|  LOTE  34 QUADRA 34|   VILA SAO JOAO|25570162| RJ|     5901|\n",
      "|    2180764|               2|                null|     08|20151208|         1|    20090909|       4784900|           null|    RUA|ROMARIO DE AZERED...| 50|       LOTE  18 QD H|    MANGUEIRINHA|28800000| RJ|     5885|\n",
      "|   11124219|               1|   LAVA JATO ALIANCA|     08|20170511|         1|    20090908|       4520005|           null| QUADRA| SHCS SQ 107 BLOCO A|S/N|      PAG        ...|         ASA SUL|70346500| DF|     9701|\n",
      "|   11124231|               1|VIVARTE EVENTOS E...|     04|20210226|        63|    20090903|       8230001|           null|    RUA|PROFESSOR ANIBAL ...| 64|                null|JARDIM SAO JORGE|04432060| SP|     7107|\n",
      "+-----------+----------------+--------------------+-------+--------+----------+------------+--------------+---------------+-------+--------------------+---+--------------------+----------------+--------+---+---------+\n",
      "only showing top 5 rows\n",
      "\n"
     ]
    }
   ],
   "source": [
    "df.show(5)"
   ]
  },
  {
   "cell_type": "code",
   "execution_count": 9,
   "metadata": {},
   "outputs": [
    {
     "data": {
      "text/plain": [
       "51091268"
      ]
     },
     "execution_count": 9,
     "metadata": {},
     "output_type": "execute_result"
    }
   ],
   "source": [
    "df.count()"
   ]
  }
 ],
 "metadata": {
  "interpreter": {
   "hash": "71046af2f65c12de5be553af3af49a03a0746b5ef2338e39a62aea16fa296259"
  },
  "kernelspec": {
   "display_name": "Python 3.10.1 64-bit",
   "language": "python",
   "name": "python3"
  },
  "language_info": {
   "codemirror_mode": {
    "name": "ipython",
    "version": 3
   },
   "file_extension": ".py",
   "mimetype": "text/x-python",
   "name": "python",
   "nbconvert_exporter": "python",
   "pygments_lexer": "ipython3",
   "version": "3.8.10"
  },
  "orig_nbformat": 4
 },
 "nbformat": 4,
 "nbformat_minor": 2
}
