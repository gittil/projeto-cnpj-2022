{
 "cells": [
  {
   "cell_type": "code",
   "execution_count": 1,
   "metadata": {},
   "outputs": [],
   "source": [
    "import findspark\n",
    "findspark.init()\n",
    "import pyspark"
   ]
  },
  {
   "cell_type": "code",
   "execution_count": 2,
   "metadata": {},
   "outputs": [],
   "source": [
    "from pyspark.sql import SparkSession\n",
    "from pyspark.sql.types import *\n",
    "from pyspark.sql import functions as Func \n",
    "from pyspark.sql.functions import *"
   ]
  },
  {
   "cell_type": "code",
   "execution_count": 4,
   "metadata": {},
   "outputs": [],
   "source": [
    "spark = SparkSession.builder.master(\"local\").\\\n",
    "    appName(\"CNPJ_bronze\").\\\n",
    "        config(\"spark.executer.memory\",\"1gb\").\\\n",
    "            getOrCreate()"
   ]
  },
  {
   "cell_type": "code",
   "execution_count": 9,
   "metadata": {},
   "outputs": [],
   "source": [
    "path = \"/media/douglas/DATA/PRJ_CNPJ/new_data/ETL/02.Bronze/*.parquet\""
   ]
  },
  {
   "cell_type": "code",
   "execution_count": 10,
   "metadata": {},
   "outputs": [
    {
     "name": "stderr",
     "output_type": "stream",
     "text": [
      "                                                                                \r"
     ]
    }
   ],
   "source": [
    "df = spark.read.format(\"parquet\")\\\n",
    "    .option(\"delimiter\",\";\")\\\n",
    "        .option(\"enconding\",\"ISO-8859-1\")\\\n",
    "            .option(\"header\",\"False\")\\\n",
    "                .option(\"inferSchame\",\"True\")\\\n",
    "                    .load(path)"
   ]
  },
  {
   "cell_type": "code",
   "execution_count": 16,
   "metadata": {},
   "outputs": [
    {
     "data": {
      "text/plain": [
       "StructType(List(StructField(CNPJ_basico,StringType,true),StructField(id_matriz_filial,StringType,true),StructField(nome_fantasia,StringType,true),StructField(sit_cad,StringType,true),StructField(dt_cad,StringType,true),StructField(mt_sit_cad,StringType,true),StructField(dt_inicio_at,StringType,true),StructField(cnae_principal,StringType,true),StructField(cnae_secundario,StringType,true),StructField(tp_log,StringType,true),StructField(log,StringType,true),StructField(nm,StringType,true),StructField(comp,StringType,true),StructField(bairro,StringType,true),StructField(CEP,StringType,true),StructField(UF,StringType,true),StructField(municipio,StringType,true)))"
      ]
     },
     "execution_count": 16,
     "metadata": {},
     "output_type": "execute_result"
    }
   ],
   "source": [
    "df.schema"
   ]
  },
  {
   "cell_type": "code",
   "execution_count": 14,
   "metadata": {},
   "outputs": [
    {
     "ename": "TypeError",
     "evalue": "Invalid argument, not a string or column: <bound method _unary_op.<locals>._ of Column<'dt_inicio_at'>> of type <class 'method'>. For column literals, use 'lit', 'array', 'struct' or 'create_map' function.",
     "output_type": "error",
     "traceback": [
      "\u001b[0;31m---------------------------------------------------------------------------\u001b[0m",
      "\u001b[0;31mTypeError\u001b[0m                                 Traceback (most recent call last)",
      "\u001b[1;32m/media/douglas/DATA/workspace/projeto-cnpj-2022/tratamento_bronze.ipynb Cell 6'\u001b[0m in \u001b[0;36m<cell line: 1>\u001b[0;34m()\u001b[0m\n\u001b[0;32m----> <a href='vscode-notebook-cell:/media/douglas/DATA/workspace/projeto-cnpj-2022/tratamento_bronze.ipynb#ch0000007?line=0'>1</a>\u001b[0m select_cervejarias \u001b[39m=\u001b[39m df\u001b[39m.\u001b[39;49mfilter(Func\u001b[39m.\u001b[39;49mcol(\u001b[39m\"\u001b[39;49m\u001b[39mcnae_principal\u001b[39;49m\u001b[39m\"\u001b[39;49m)\u001b[39m==\u001b[39;49m\u001b[39m1113502\u001b[39;49m)\u001b[39m.\u001b[39;49morderBy(Func\u001b[39m.\u001b[39;49mcol(\u001b[39m\"\u001b[39;49m\u001b[39mdt_inicio_at\u001b[39;49m\u001b[39m\"\u001b[39;49m)\u001b[39m.\u001b[39;49mdesc)\n",
      "File \u001b[0;32m/opt/spark/python/pyspark/sql/dataframe.py:1421\u001b[0m, in \u001b[0;36mDataFrame.sort\u001b[0;34m(self, *cols, **kwargs)\u001b[0m\n\u001b[1;32m   <a href='file:///opt/spark/python/pyspark/sql/dataframe.py?line=1387'>1388</a>\u001b[0m \u001b[39mdef\u001b[39;00m \u001b[39msort\u001b[39m(\u001b[39mself\u001b[39m, \u001b[39m*\u001b[39mcols, \u001b[39m*\u001b[39m\u001b[39m*\u001b[39mkwargs):\n\u001b[1;32m   <a href='file:///opt/spark/python/pyspark/sql/dataframe.py?line=1388'>1389</a>\u001b[0m     \u001b[39m\"\"\"Returns a new :class:`DataFrame` sorted by the specified column(s).\u001b[39;00m\n\u001b[1;32m   <a href='file:///opt/spark/python/pyspark/sql/dataframe.py?line=1389'>1390</a>\u001b[0m \n\u001b[1;32m   <a href='file:///opt/spark/python/pyspark/sql/dataframe.py?line=1390'>1391</a>\u001b[0m \u001b[39m    .. versionadded:: 1.3.0\u001b[39;00m\n\u001b[0;32m   (...)\u001b[0m\n\u001b[1;32m   <a href='file:///opt/spark/python/pyspark/sql/dataframe.py?line=1418'>1419</a>\u001b[0m \u001b[39m    [Row(age=5, name='Bob'), Row(age=2, name='Alice')]\u001b[39;00m\n\u001b[1;32m   <a href='file:///opt/spark/python/pyspark/sql/dataframe.py?line=1419'>1420</a>\u001b[0m \u001b[39m    \"\"\"\u001b[39;00m\n\u001b[0;32m-> <a href='file:///opt/spark/python/pyspark/sql/dataframe.py?line=1420'>1421</a>\u001b[0m     jdf \u001b[39m=\u001b[39m \u001b[39mself\u001b[39m\u001b[39m.\u001b[39m_jdf\u001b[39m.\u001b[39msort(\u001b[39mself\u001b[39;49m\u001b[39m.\u001b[39;49m_sort_cols(cols, kwargs))\n\u001b[1;32m   <a href='file:///opt/spark/python/pyspark/sql/dataframe.py?line=1421'>1422</a>\u001b[0m     \u001b[39mreturn\u001b[39;00m DataFrame(jdf, \u001b[39mself\u001b[39m\u001b[39m.\u001b[39msql_ctx)\n",
      "File \u001b[0;32m/opt/spark/python/pyspark/sql/dataframe.py:1450\u001b[0m, in \u001b[0;36mDataFrame._sort_cols\u001b[0;34m(self, cols, kwargs)\u001b[0m\n\u001b[1;32m   <a href='file:///opt/spark/python/pyspark/sql/dataframe.py?line=1447'>1448</a>\u001b[0m \u001b[39mif\u001b[39;00m \u001b[39mlen\u001b[39m(cols) \u001b[39m==\u001b[39m \u001b[39m1\u001b[39m \u001b[39mand\u001b[39;00m \u001b[39misinstance\u001b[39m(cols[\u001b[39m0\u001b[39m], \u001b[39mlist\u001b[39m):\n\u001b[1;32m   <a href='file:///opt/spark/python/pyspark/sql/dataframe.py?line=1448'>1449</a>\u001b[0m     cols \u001b[39m=\u001b[39m cols[\u001b[39m0\u001b[39m]\n\u001b[0;32m-> <a href='file:///opt/spark/python/pyspark/sql/dataframe.py?line=1449'>1450</a>\u001b[0m jcols \u001b[39m=\u001b[39m [_to_java_column(c) \u001b[39mfor\u001b[39;00m c \u001b[39min\u001b[39;00m cols]\n\u001b[1;32m   <a href='file:///opt/spark/python/pyspark/sql/dataframe.py?line=1450'>1451</a>\u001b[0m ascending \u001b[39m=\u001b[39m kwargs\u001b[39m.\u001b[39mget(\u001b[39m'\u001b[39m\u001b[39mascending\u001b[39m\u001b[39m'\u001b[39m, \u001b[39mTrue\u001b[39;00m)\n\u001b[1;32m   <a href='file:///opt/spark/python/pyspark/sql/dataframe.py?line=1451'>1452</a>\u001b[0m \u001b[39mif\u001b[39;00m \u001b[39misinstance\u001b[39m(ascending, (\u001b[39mbool\u001b[39m, \u001b[39mint\u001b[39m)):\n",
      "File \u001b[0;32m/opt/spark/python/pyspark/sql/dataframe.py:1450\u001b[0m, in \u001b[0;36m<listcomp>\u001b[0;34m(.0)\u001b[0m\n\u001b[1;32m   <a href='file:///opt/spark/python/pyspark/sql/dataframe.py?line=1447'>1448</a>\u001b[0m \u001b[39mif\u001b[39;00m \u001b[39mlen\u001b[39m(cols) \u001b[39m==\u001b[39m \u001b[39m1\u001b[39m \u001b[39mand\u001b[39;00m \u001b[39misinstance\u001b[39m(cols[\u001b[39m0\u001b[39m], \u001b[39mlist\u001b[39m):\n\u001b[1;32m   <a href='file:///opt/spark/python/pyspark/sql/dataframe.py?line=1448'>1449</a>\u001b[0m     cols \u001b[39m=\u001b[39m cols[\u001b[39m0\u001b[39m]\n\u001b[0;32m-> <a href='file:///opt/spark/python/pyspark/sql/dataframe.py?line=1449'>1450</a>\u001b[0m jcols \u001b[39m=\u001b[39m [_to_java_column(c) \u001b[39mfor\u001b[39;00m c \u001b[39min\u001b[39;00m cols]\n\u001b[1;32m   <a href='file:///opt/spark/python/pyspark/sql/dataframe.py?line=1450'>1451</a>\u001b[0m ascending \u001b[39m=\u001b[39m kwargs\u001b[39m.\u001b[39mget(\u001b[39m'\u001b[39m\u001b[39mascending\u001b[39m\u001b[39m'\u001b[39m, \u001b[39mTrue\u001b[39;00m)\n\u001b[1;32m   <a href='file:///opt/spark/python/pyspark/sql/dataframe.py?line=1451'>1452</a>\u001b[0m \u001b[39mif\u001b[39;00m \u001b[39misinstance\u001b[39m(ascending, (\u001b[39mbool\u001b[39m, \u001b[39mint\u001b[39m)):\n",
      "File \u001b[0;32m/opt/spark/python/pyspark/sql/column.py:45\u001b[0m, in \u001b[0;36m_to_java_column\u001b[0;34m(col)\u001b[0m\n\u001b[1;32m     <a href='file:///opt/spark/python/pyspark/sql/column.py?line=42'>43</a>\u001b[0m     jcol \u001b[39m=\u001b[39m _create_column_from_name(col)\n\u001b[1;32m     <a href='file:///opt/spark/python/pyspark/sql/column.py?line=43'>44</a>\u001b[0m \u001b[39melse\u001b[39;00m:\n\u001b[0;32m---> <a href='file:///opt/spark/python/pyspark/sql/column.py?line=44'>45</a>\u001b[0m     \u001b[39mraise\u001b[39;00m \u001b[39mTypeError\u001b[39;00m(\n\u001b[1;32m     <a href='file:///opt/spark/python/pyspark/sql/column.py?line=45'>46</a>\u001b[0m         \u001b[39m\"\u001b[39m\u001b[39mInvalid argument, not a string or column: \u001b[39m\u001b[39m\"\u001b[39m\n\u001b[1;32m     <a href='file:///opt/spark/python/pyspark/sql/column.py?line=46'>47</a>\u001b[0m         \u001b[39m\"\u001b[39m\u001b[39m{0}\u001b[39;00m\u001b[39m of type \u001b[39m\u001b[39m{1}\u001b[39;00m\u001b[39m. \u001b[39m\u001b[39m\"\u001b[39m\n\u001b[1;32m     <a href='file:///opt/spark/python/pyspark/sql/column.py?line=47'>48</a>\u001b[0m         \u001b[39m\"\u001b[39m\u001b[39mFor column literals, use \u001b[39m\u001b[39m'\u001b[39m\u001b[39mlit\u001b[39m\u001b[39m'\u001b[39m\u001b[39m, \u001b[39m\u001b[39m'\u001b[39m\u001b[39marray\u001b[39m\u001b[39m'\u001b[39m\u001b[39m, \u001b[39m\u001b[39m'\u001b[39m\u001b[39mstruct\u001b[39m\u001b[39m'\u001b[39m\u001b[39m or \u001b[39m\u001b[39m'\u001b[39m\u001b[39mcreate_map\u001b[39m\u001b[39m'\u001b[39m\u001b[39m \u001b[39m\u001b[39m\"\u001b[39m\n\u001b[1;32m     <a href='file:///opt/spark/python/pyspark/sql/column.py?line=48'>49</a>\u001b[0m         \u001b[39m\"\u001b[39m\u001b[39mfunction.\u001b[39m\u001b[39m\"\u001b[39m\u001b[39m.\u001b[39mformat(col, \u001b[39mtype\u001b[39m(col)))\n\u001b[1;32m     <a href='file:///opt/spark/python/pyspark/sql/column.py?line=49'>50</a>\u001b[0m \u001b[39mreturn\u001b[39;00m jcol\n",
      "\u001b[0;31mTypeError\u001b[0m: Invalid argument, not a string or column: <bound method _unary_op.<locals>._ of Column<'dt_inicio_at'>> of type <class 'method'>. For column literals, use 'lit', 'array', 'struct' or 'create_map' function."
     ]
    }
   ],
   "source": [
    "select_cervejarias = df.filter(Func.col(\"cnae_principal\")==1113502).orderBy(Func.col(\"dt_inicio_at\").desc)"
   ]
  },
  {
   "cell_type": "code",
   "execution_count": 12,
   "metadata": {},
   "outputs": [
    {
     "name": "stderr",
     "output_type": "stream",
     "text": [
      "                                                                                \r"
     ]
    },
    {
     "data": {
      "text/plain": [
       "3418"
      ]
     },
     "execution_count": 12,
     "metadata": {},
     "output_type": "execute_result"
    }
   ],
   "source": [
    "select_cervejarias.count()"
   ]
  },
  {
   "cell_type": "code",
   "execution_count": 13,
   "metadata": {},
   "outputs": [
    {
     "name": "stderr",
     "output_type": "stream",
     "text": [
      "                                                                                \r"
     ]
    },
    {
     "name": "stdout",
     "output_type": "stream",
     "text": [
      "+-----------+----------------+--------------------+-------+--------+----------+------------+--------------+--------------------+-------+--------------------+------+--------------------+--------------------+--------+---+---------+\n",
      "|CNPJ_basico|id_matriz_filial|       nome_fantasia|sit_cad|  dt_cad|mt_sit_cad|dt_inicio_at|cnae_principal|     cnae_secundario| tp_log|                 log|    nm|                comp|              bairro|     CEP| UF|municipio|\n",
      "+-----------+----------------+--------------------+-------+--------+----------+------------+--------------+--------------------+-------+--------------------+------+--------------------+--------------------+--------+---+---------+\n",
      "|   35962701|               1|                null|     02|20200110|        00|    20200110|       1113502|4723700,4789001,7...|    RUA|   RAUL SANTOS SILVA|    60|                null|JARDIM ROBERTO BE...|14098230| SP|     6969|\n",
      "|   44222402|               1|        VON DER BEER|     02|20211112|        00|    20211112|       1113502|1113501,4712100,4...|    RUA|BENTO CLARINDO BA...|  1568|             SALA  A|            SAO JOAO|64045120| PI|     1219|\n",
      "|   44380284|               1|  CERVEJARIA ZERALTA|     02|20211125|        00|    20211125|       1113502|     4635402,4723700|    RUA|    FLORIANO PEIXOTO|   168|                null|              CENTRO|35700048| MG|     5343|\n",
      "|   44438618|               1|MALTADORA CERVEJARIA|     02|20211201|        00|    20211201|       1113502|     4723700,5611205|    RUA|        SANTO INACIO|   706|                null|              CENTRO|83324080| PR|     5453|\n",
      "|   44463134|               1| CONTAINER FABRICA 1|     02|20211202|        00|    20211202|       1113502|4723700,5611201,5...|AVENIDA|PADRE NELSON ANTO...|  1163|QUADRA39         ...|          NOVA MATAO|15990590| SP|     6687|\n",
      "|   44593011|               1|                null|     02|20211215|        00|    20211215|       1113502|1112700,4635499,4...|    RUA|  WALTER ALDO FERLIN|   966|                null|PARQUE SAO SEBASTIAO|14093410| SP|     6969|\n",
      "|   44731163|               1|            BIERHEAD|     02|20220104|        00|    20220104|       1113502|     4723700,4781400|AVENIDA|        SILVA JARDIM|  1154|                null|            REBOUCAS|80230000| PR|     7535|\n",
      "|   00001368|               1|ARRANHA-SERRA BRE...|     02|20051103|        00|    19940506|       1113502|4635402,4723700,5...|    RUA|FERNANDO PRESTES ...|   190|                null|          SANTA INES|07729505| SP|     6281|\n",
      "|   82206004|               2|                null|     02|       0|        00|    20050509|       1113502|                null|    RUA|                  LW|   S/N|QUADRA 10, LOTES ...|              AREIAS|88101000| SC|     8327|\n",
      "|   00066130|               1|                null|     02|20051103|        00|    19940512|       1113502|4723700,4781400,5...|AVENIDA|       TULIO DE ROSE|    80|      CONJUNTO 314-C|       PASSO D'AREIA|91340110| RS|     8801|\n",
      "|   03485089|               1|COMPANHIA NORTE P...|     02|20010225|        00|    19991103|       1113502|1111901,1111902,1...|AVENIDA|PREFEITO WILSON R...|  6000|     KM    63 PR 445|CONJUNTO HABITACI...|86044768| PR|     7667|\n",
      "|   03714860|               1|                null|     02|20051103|        00|    20000320|       1113502|4635402,4721104,4...|    RUA|           PROJETADA|    SN|                null|     LINHA SAO PAULO|89820000| SC|     8383|\n",
      "|   05438567|               1|                null|     02|20050604|        00|    20021218|       1113502|                null|    RUA|       BR 386 KM 410|   S/N|                null|            VENDINHA|95840000| RS|     8943|\n",
      "|   05488757|               1|                null|     02|20030115|        00|    20030115|       1113502|                null|   null|       RUA GAMBRIUNS|2 - 10|                   0|          LA CORUNHA|    null| EX|     9707|\n",
      "|   00707648|               1|                null|     04|20181212|        63|    19950719|       1113502|                null|   null|       BR 153 KM 651|   S/N|                null|DIST AGRO INDUSTRIAL|77453000| TO|     0327|\n",
      "|   04430717|               2|                null|     08|20100602|        02|    20020716|       1113502|                null|AVENIDA|COLARES MOREIRA, ...|   S/N|LOTEAMENTO B. ESP...|       RENASCENCA II|65075820| MA|     0921|\n",
      "|   05766005|               2|DISTRIBUIDORA COL...|     02|20041228|        00|    20041228|       1113502|                null|    RUA|SERGIO JUNGBLUT D...|   756|            PAVLH 04|             SARANDI|91060410| RS|     8801|\n",
      "|   05766005|               2|DISTRIBUIDORA COL...|     08|20070504|        01|    20041228|       1113502|                null|    RUA|        DOM PEDRO II|   245|                null|            SAO JOSE|95032240| RS|     8599|\n",
      "|   05887509|               1|                null|     08|20060323|        01|    20030905|       1113502|                null|ESTACAO|              GUEDES|   S/N|              GUEDES|              GUEDES|13910001| SP|     6595|\n",
      "|   19900000|               2|                null|     08|20070117|        01|    20031210|       1113502|                null|AVENIDA|TORQUATO DA SILVA...|   292|                null|           SAO DIMAS|13416210| SP|     6875|\n",
      "+-----------+----------------+--------------------+-------+--------+----------+------------+--------------+--------------------+-------+--------------------+------+--------------------+--------------------+--------+---+---------+\n",
      "only showing top 20 rows\n",
      "\n"
     ]
    }
   ],
   "source": [
    "select_cervejarias.show()"
   ]
  }
 ],
 "metadata": {
  "interpreter": {
   "hash": "71046af2f65c12de5be553af3af49a03a0746b5ef2338e39a62aea16fa296259"
  },
  "kernelspec": {
   "display_name": "Python 3.10.1 64-bit",
   "language": "python",
   "name": "python3"
  },
  "language_info": {
   "codemirror_mode": {
    "name": "ipython",
    "version": 3
   },
   "file_extension": ".py",
   "mimetype": "text/x-python",
   "name": "python",
   "nbconvert_exporter": "python",
   "pygments_lexer": "ipython3",
   "version": "3.8.10"
  },
  "orig_nbformat": 4
 },
 "nbformat": 4,
 "nbformat_minor": 2
}
