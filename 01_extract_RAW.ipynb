{
 "cells": [
  {
   "cell_type": "markdown",
   "id": "98f38147",
   "metadata": {},
   "source": [
    "importar bibliotecas"
   ]
  },
  {
   "cell_type": "code",
   "execution_count": 94,
   "id": "9a360a8b",
   "metadata": {},
   "outputs": [],
   "source": [
    "import findspark\n",
    "findspark.init()\n",
    "import pyspark"
   ]
  },
  {
   "cell_type": "code",
   "execution_count": 95,
   "id": "09e3263b",
   "metadata": {},
   "outputs": [],
   "source": [
    "from pyspark.sql import SparkSession\n",
    "from pyspark.sql.types import *\n",
    "from pyspark.sql import functions as Func \n",
    "from pyspark.sql.functions import *"
   ]
  },
  {
   "cell_type": "markdown",
   "id": "2b1d5c97",
   "metadata": {},
   "source": [
    "iniciar a spark session"
   ]
  },
  {
   "cell_type": "code",
   "execution_count": 96,
   "id": "3985115a",
   "metadata": {},
   "outputs": [],
   "source": [
    "spark = SparkSession.builder.master(\"local\").\\\n",
    "    appName(\"CNPJ_RAW\").\\\n",
    "        config(\"spark.executer.memory\",\"1gb\").\\\n",
    "            getOrCreate()"
   ]
  },
  {
   "cell_type": "markdown",
   "id": "a77e4610",
   "metadata": {},
   "source": [
    "### No site da RFB temos 10 arquivos CSV que totalizam mais de 10 Gb e mais de 51 milhões de linhas, nesse passo realizamos a carga de todos os arquivos que se encontram na pasta RAW num único DF"
   ]
  },
  {
   "cell_type": "code",
   "execution_count": 97,
   "id": "47e00fda",
   "metadata": {},
   "outputs": [],
   "source": [
    "# Nesta pasta temos todos os arquivos brutos, da forma que vieram do site da RFB.\n",
    "path = \"/media/douglas/DATA/PRJ_CNPJ/new_data/ETL/01.RAW/*.csv\""
   ]
  },
  {
   "cell_type": "code",
   "execution_count": 98,
   "id": "47c41dc2",
   "metadata": {},
   "outputs": [
    {
     "name": "stderr",
     "output_type": "stream",
     "text": [
      "                                                                                \r"
     ]
    }
   ],
   "source": [
    "csv_to_DF = spark.read.format(\"csv\")\\\n",
    "    .option(\"delimiter\",\";\")\\\n",
    "        .option(\"enconding\",\"ISO-8859-1\")\\\n",
    "            .option(\"header\",\"False\")\\\n",
    "                .option(\"inferSchema\",\"True\")\\\n",
    "                    .load(path)"
   ]
  },
  {
   "cell_type": "code",
   "execution_count": 99,
   "id": "d8fc49fe",
   "metadata": {},
   "outputs": [
    {
     "name": "stderr",
     "output_type": "stream",
     "text": [
      "                                                                                \r"
     ]
    },
    {
     "data": {
      "text/plain": [
       "51091268"
      ]
     },
     "execution_count": 99,
     "metadata": {},
     "output_type": "execute_result"
    }
   ],
   "source": [
    "# Contando a quantidade de registros que temos no DF\n",
    "csv_to_DF.count()"
   ]
  },
  {
   "cell_type": "code",
   "execution_count": 100,
   "id": "d3634244",
   "metadata": {},
   "outputs": [
    {
     "data": {
      "text/plain": [
       "StructType(List(StructField(_c0,IntegerType,true),StructField(_c1,IntegerType,true),StructField(_c2,IntegerType,true),StructField(_c3,IntegerType,true),StructField(_c4,StringType,true),StructField(_c5,StringType,true),StructField(_c6,IntegerType,true),StructField(_c7,IntegerType,true),StructField(_c8,StringType,true),StructField(_c9,IntegerType,true),StructField(_c10,IntegerType,true),StructField(_c11,StringType,true),StructField(_c12,StringType,true),StructField(_c13,StringType,true),StructField(_c14,StringType,true),StructField(_c15,StringType,true),StructField(_c16,StringType,true),StructField(_c17,StringType,true),StructField(_c18,StringType,true),StructField(_c19,StringType,true),StructField(_c20,StringType,true),StructField(_c21,StringType,true),StructField(_c22,StringType,true),StructField(_c23,StringType,true),StructField(_c24,StringType,true),StructField(_c25,StringType,true),StructField(_c26,StringType,true),StructField(_c27,StringType,true),StructField(_c28,StringType,true),StructField(_c29,StringType,true)))"
      ]
     },
     "execution_count": 100,
     "metadata": {},
     "output_type": "execute_result"
    }
   ],
   "source": [
    "# Deixamos que o Spark inferisse o Schema pois não vamos precisar de toda as colunas nos próximos passos.\n",
    "# Após a seleção das colunas que iremos realmente usar, faremos essa etapa do tratamento, formatando as colunas de datas, por exemplo.\n",
    "csv_to_DF.schema"
   ]
  },
  {
   "cell_type": "code",
   "execution_count": 101,
   "id": "aadb05dd",
   "metadata": {},
   "outputs": [
    {
     "data": {
      "text/plain": [
       "['_c0',\n",
       " '_c1',\n",
       " '_c2',\n",
       " '_c3',\n",
       " '_c4',\n",
       " '_c5',\n",
       " '_c6',\n",
       " '_c7',\n",
       " '_c8',\n",
       " '_c9',\n",
       " '_c10',\n",
       " '_c11',\n",
       " '_c12',\n",
       " '_c13',\n",
       " '_c14',\n",
       " '_c15',\n",
       " '_c16',\n",
       " '_c17',\n",
       " '_c18',\n",
       " '_c19',\n",
       " '_c20',\n",
       " '_c21',\n",
       " '_c22',\n",
       " '_c23',\n",
       " '_c24',\n",
       " '_c25',\n",
       " '_c26',\n",
       " '_c27',\n",
       " '_c28',\n",
       " '_c29']"
      ]
     },
     "execution_count": 101,
     "metadata": {},
     "output_type": "execute_result"
    }
   ],
   "source": [
    "csv_to_DF.columns"
   ]
  },
  {
   "cell_type": "markdown",
   "id": "941015e2",
   "metadata": {},
   "source": [
    "Agora vamos renomear as colunas, pois o CSV original não tinha qualquer tipo de informação, limpar algumas colunas que não vamos precisar (telefone e email, por exemplo) e concatenar outras, dessa forma deixaremos nosso DF mais clean para gerar o arquivo parquet"
   ]
  },
  {
   "cell_type": "code",
   "execution_count": 102,
   "id": "c41ef1cb",
   "metadata": {},
   "outputs": [],
   "source": [
    "csv_to_DF = csv_to_DF\\\n",
    "    .withColumnRenamed('_c0','CNPJ_basico')\\\n",
    "    .withColumnRenamed('_c1','CNPJ_ordem')\\\n",
    "    .withColumnRenamed('_c2','CNPJ_dv')\\\n",
    "    .withColumnRenamed('_c3','id_matriz_filial')\\\n",
    "    .withColumnRenamed('_c4','nome_fantasia')\\\n",
    "    .withColumnRenamed('_c5','sit_cad')\\\n",
    "    .withColumnRenamed('_c6','dt_cad')\\\n",
    "    .withColumnRenamed('_c7','mt_sit_cad')\\\n",
    "    .withColumnRenamed('_c8','cid_ext')\\\n",
    "    .withColumnRenamed('_c9','pais')\\\n",
    "    .withColumnRenamed('_c10','dt_inicio_at')\\\n",
    "    .withColumnRenamed('_c11','cnae_principal')\\\n",
    "    .withColumnRenamed('_c12','cnae_secundario')\\\n",
    "    .withColumnRenamed('_c13','tp_log')\\\n",
    "    .withColumnRenamed('_c14','log')\\\n",
    "    .withColumnRenamed('_c15','nm')\\\n",
    "    .withColumnRenamed('_c16','comp')\\\n",
    "    .withColumnRenamed('_c17','bairro')\\\n",
    "    .withColumnRenamed('_c18','CEP')\\\n",
    "    .withColumnRenamed('_c19','UF')\\\n",
    "    .withColumnRenamed('_c20','municipio')\\\n",
    "    .withColumnRenamed('_c21','ddd1')\\\n",
    "    .withColumnRenamed('_c22','tel1')\\\n",
    "    .withColumnRenamed('_c23','ddd2')\\\n",
    "    .withColumnRenamed('_c24','tel2')\\\n",
    "    .withColumnRenamed('_c25','ddd_fax')\\\n",
    "    .withColumnRenamed('_c26','fax')\\\n",
    "    .withColumnRenamed('_c27','email')\\\n",
    "    .withColumnRenamed('_c28','sit_esp')\\\n",
    "    .withColumnRenamed('_c29','dt_sit_esp')\n"
   ]
  },
  {
   "cell_type": "code",
   "execution_count": 103,
   "id": "b9154d13",
   "metadata": {},
   "outputs": [
    {
     "data": {
      "text/plain": [
       "['CNPJ_basico',\n",
       " 'CNPJ_ordem',\n",
       " 'CNPJ_dv',\n",
       " 'id_matriz_filial',\n",
       " 'nome_fantasia',\n",
       " 'sit_cad',\n",
       " 'dt_cad',\n",
       " 'mt_sit_cad',\n",
       " 'cid_ext',\n",
       " 'pais',\n",
       " 'dt_inicio_at',\n",
       " 'cnae_principal',\n",
       " 'cnae_secundario',\n",
       " 'tp_log',\n",
       " 'log',\n",
       " 'nm',\n",
       " 'comp',\n",
       " 'bairro',\n",
       " 'CEP',\n",
       " 'UF',\n",
       " 'municipio',\n",
       " 'ddd1',\n",
       " 'tel1',\n",
       " 'ddd2',\n",
       " 'tel2',\n",
       " 'ddd_fax',\n",
       " 'fax',\n",
       " 'email',\n",
       " 'sit_esp',\n",
       " 'dt_sit_esp']"
      ]
     },
     "execution_count": 103,
     "metadata": {},
     "output_type": "execute_result"
    }
   ],
   "source": [
    "csv_to_DF.columns"
   ]
  },
  {
   "cell_type": "code",
   "execution_count": 104,
   "id": "f722d05c",
   "metadata": {},
   "outputs": [],
   "source": [
    "# Select no DF principal para deixar uma saída mais limpa, tirando dados sensíveis como telefone e email\n",
    "df_select = csv_to_DF.select('CNPJ_basico',\n",
    "                             'id_matriz_filial', \n",
    "                             'nome_fantasia',\n",
    "                             'sit_cad', \n",
    "                             'dt_cad', \n",
    "                             'mt_sit_cad', \n",
    "                             'dt_inicio_at', \n",
    "                             'cnae_principal', \n",
    "                             'cnae_secundario', \n",
    "                             'tp_log', \n",
    "                             'log', \n",
    "                             'nm', \n",
    "                             'comp', \n",
    "                             'bairro', \n",
    "                             'CEP', \n",
    "                             'UF', \n",
    "                             'municipio') "
   ]
  },
  {
   "cell_type": "code",
   "execution_count": 105,
   "id": "4e5b1a64",
   "metadata": {},
   "outputs": [
    {
     "data": {
      "text/plain": [
       "StructType(List(StructField(CNPJ_basico,IntegerType,true),StructField(id_matriz_filial,IntegerType,true),StructField(nome_fantasia,StringType,true),StructField(sit_cad,StringType,true),StructField(dt_cad,IntegerType,true),StructField(mt_sit_cad,IntegerType,true),StructField(dt_inicio_at,IntegerType,true),StructField(cnae_principal,StringType,true),StructField(cnae_secundario,StringType,true),StructField(tp_log,StringType,true),StructField(log,StringType,true),StructField(nm,StringType,true),StructField(comp,StringType,true),StructField(bairro,StringType,true),StructField(CEP,StringType,true),StructField(UF,StringType,true),StructField(municipio,StringType,true)))"
      ]
     },
     "execution_count": 105,
     "metadata": {},
     "output_type": "execute_result"
    }
   ],
   "source": [
    "df_select.schema"
   ]
  },
  {
   "cell_type": "markdown",
   "id": "a64fe379",
   "metadata": {},
   "source": [
    "Para facilitar as próximas manipulações dos dados iremos persistir esses dados previamente limpos em um arquivo parquet e carregar em uma pasta com o nome Bronze, após esse passo, continuaremos efetuando alguns tratamentos"
   ]
  },
  {
   "cell_type": "code",
   "execution_count": 106,
   "id": "2a407e53",
   "metadata": {},
   "outputs": [
    {
     "name": "stderr",
     "output_type": "stream",
     "text": [
      "                                                                                \r"
     ]
    }
   ],
   "source": [
    "df_select.write.mode(\"overwrite\").save(\"/media/douglas/DATA/PRJ_CNPJ/new_data/ETL/02.Bronze\")"
   ]
  },
  {
   "cell_type": "code",
   "execution_count": 107,
   "id": "553b2028",
   "metadata": {},
   "outputs": [],
   "source": [
    "spark.stop()"
   ]
  }
 ],
 "metadata": {
  "kernelspec": {
   "display_name": "Python 3 (ipykernel)",
   "language": "python",
   "name": "python3"
  },
  "language_info": {
   "codemirror_mode": {
    "name": "ipython",
    "version": 3
   },
   "file_extension": ".py",
   "mimetype": "text/x-python",
   "name": "python",
   "nbconvert_exporter": "python",
   "pygments_lexer": "ipython3",
   "version": "3.8.10"
  }
 },
 "nbformat": 4,
 "nbformat_minor": 5
}
