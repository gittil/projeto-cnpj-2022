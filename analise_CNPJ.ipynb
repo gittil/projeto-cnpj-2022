{
 "cells": [
  {
   "cell_type": "markdown",
   "id": "98f38147",
   "metadata": {},
   "source": [
    "importar bibliotecas"
   ]
  },
  {
   "cell_type": "code",
   "execution_count": 1,
   "id": "9a360a8b",
   "metadata": {},
   "outputs": [],
   "source": [
    "import findspark\n",
    "findspark.init()\n",
    "import pyspark"
   ]
  },
  {
   "cell_type": "code",
   "execution_count": 2,
   "id": "09e3263b",
   "metadata": {},
   "outputs": [],
   "source": [
    "from pyspark.sql import SparkSession\n",
    "from pyspark.sql.types import *\n",
    "from pyspark.sql import functions as Func \n",
    "from pyspark.sql.functions import *"
   ]
  },
  {
   "cell_type": "markdown",
   "id": "2b1d5c97",
   "metadata": {},
   "source": [
    "iniciar a spark session"
   ]
  },
  {
   "cell_type": "code",
   "execution_count": 4,
   "id": "3985115a",
   "metadata": {},
   "outputs": [],
   "source": [
    "spark = SparkSession.builder.master(\"local\").\\\n",
    "    appName(\"CNPJ\").\\\n",
    "        config(\"spark.executer.memory\",\"1gb\").\\\n",
    "            getOrCreate()"
   ]
  },
  {
   "cell_type": "markdown",
   "id": "a77e4610",
   "metadata": {},
   "source": [
    "### No site da RFB temos 10 arquivos CSV que totalizam mais de 10 Gb e mais de 51 milhões de linhas, nesse passo realizamos a carga de todos os arquivos que se encontram na pasta RAW num único DF"
   ]
  },
  {
   "cell_type": "code",
   "execution_count": 11,
   "id": "47e00fda",
   "metadata": {},
   "outputs": [],
   "source": [
    "# Nesta pasta temos todos os arquivos brutos, da forma que vieram do site da RFB.\n",
    "# Nomei essa pasta como RAW pois será a pasta local\n",
    "path = \"/media/douglas/DATA/PRJ_CNPJ/new_data/ETL/01.RAW/*.csv\""
   ]
  },
  {
   "cell_type": "code",
   "execution_count": 10,
   "id": "c4b0613f",
   "metadata": {},
   "outputs": [
    {
     "name": "stdout",
     "output_type": "stream",
     "text": [
      "/media/douglas/DATA/PRJ_CNPJ/new_data/ETL/*.csv\n"
     ]
    }
   ],
   "source": [
    "print(path)"
   ]
  },
  {
   "cell_type": "code",
   "execution_count": 12,
   "id": "47c41dc2",
   "metadata": {},
   "outputs": [],
   "source": [
    "csv_to_DF = spark.read.format(\"csv\")\\\n",
    "    .option(\"delimiter\",\";\")\\\n",
    "        .option(\"enconding\",\"ISO-8859-1\")\\\n",
    "            .option(\"header\",\"False\")\\\n",
    "                .option(\"inferSchame\",\"True\")\\\n",
    "                    .load(path)"
   ]
  },
  {
   "cell_type": "code",
   "execution_count": 16,
   "id": "d8fc49fe",
   "metadata": {},
   "outputs": [
    {
     "name": "stderr",
     "output_type": "stream",
     "text": [
      "                                                                                \r"
     ]
    },
    {
     "data": {
      "text/plain": [
       "51091268"
      ]
     },
     "execution_count": 16,
     "metadata": {},
     "output_type": "execute_result"
    }
   ],
   "source": [
    "# Contando a quantidade de registros que temos no DF\n",
    "csv_to_DF.count()"
   ]
  },
  {
   "cell_type": "code",
   "execution_count": 17,
   "id": "d3634244",
   "metadata": {},
   "outputs": [
    {
     "data": {
      "text/plain": [
       "StructType(List(StructField(_c0,StringType,true),StructField(_c1,StringType,true),StructField(_c2,StringType,true),StructField(_c3,StringType,true),StructField(_c4,StringType,true),StructField(_c5,StringType,true),StructField(_c6,StringType,true),StructField(_c7,StringType,true),StructField(_c8,StringType,true),StructField(_c9,StringType,true),StructField(_c10,StringType,true),StructField(_c11,StringType,true),StructField(_c12,StringType,true),StructField(_c13,StringType,true),StructField(_c14,StringType,true),StructField(_c15,StringType,true),StructField(_c16,StringType,true),StructField(_c17,StringType,true),StructField(_c18,StringType,true),StructField(_c19,StringType,true),StructField(_c20,StringType,true),StructField(_c21,StringType,true),StructField(_c22,StringType,true),StructField(_c23,StringType,true),StructField(_c24,StringType,true),StructField(_c25,StringType,true),StructField(_c26,StringType,true),StructField(_c27,StringType,true),StructField(_c28,StringType,true),StructField(_c29,StringType,true)))"
      ]
     },
     "execution_count": 17,
     "metadata": {},
     "output_type": "execute_result"
    }
   ],
   "source": [
    "# Printando o Schema que o Spark inferiou\n",
    "csv_to_DF.schema"
   ]
  },
  {
   "cell_type": "code",
   "execution_count": 18,
   "id": "aadb05dd",
   "metadata": {},
   "outputs": [
    {
     "data": {
      "text/plain": [
       "['_c0',\n",
       " '_c1',\n",
       " '_c2',\n",
       " '_c3',\n",
       " '_c4',\n",
       " '_c5',\n",
       " '_c6',\n",
       " '_c7',\n",
       " '_c8',\n",
       " '_c9',\n",
       " '_c10',\n",
       " '_c11',\n",
       " '_c12',\n",
       " '_c13',\n",
       " '_c14',\n",
       " '_c15',\n",
       " '_c16',\n",
       " '_c17',\n",
       " '_c18',\n",
       " '_c19',\n",
       " '_c20',\n",
       " '_c21',\n",
       " '_c22',\n",
       " '_c23',\n",
       " '_c24',\n",
       " '_c25',\n",
       " '_c26',\n",
       " '_c27',\n",
       " '_c28',\n",
       " '_c29']"
      ]
     },
     "execution_count": 18,
     "metadata": {},
     "output_type": "execute_result"
    }
   ],
   "source": [
    "csv_to_DF.columns"
   ]
  },
  {
   "cell_type": "markdown",
   "id": "941015e2",
   "metadata": {},
   "source": [
    "Agora vamos renomear as colunas, pois o CSV original não tinha qualquer tipo de informação, limpar algumas colunas que não vamos precisar (telefone e email, por exemplo) e concatenar outras, dessa forma deixaremos nosso DF mais clean para gerar o arquivo parquet"
   ]
  },
  {
   "cell_type": "code",
   "execution_count": 19,
   "id": "c41ef1cb",
   "metadata": {},
   "outputs": [],
   "source": [
    "csv_to_DF = csv_to_DF\\\n",
    "    .withColumnRenamed('_c0','CNPJ_basico')\\\n",
    "    .withColumnRenamed('_c1','CNPJ_ordem')\\\n",
    "    .withColumnRenamed('_c2','CNPJ_dv')\\\n",
    "    .withColumnRenamed('_c3','id_matriz_filial')\\\n",
    "    .withColumnRenamed('_c4','nome_fantasia')\\\n",
    "    .withColumnRenamed('_c5','sit_cad')\\\n",
    "    .withColumnRenamed('_c6','dt_cad')\\\n",
    "    .withColumnRenamed('_c7','mt_sit_cad')\\\n",
    "    .withColumnRenamed('_c8','cid_ext')\\\n",
    "    .withColumnRenamed('_c9','pais')\\\n",
    "    .withColumnRenamed('_c10','dt_inicio_at')\\\n",
    "    .withColumnRenamed('_c11','cnae_principal')\\\n",
    "    .withColumnRenamed('_c12','cnae_secundario')\\\n",
    "    .withColumnRenamed('_c13','tp_log')\\\n",
    "    .withColumnRenamed('_c14','log')\\\n",
    "    .withColumnRenamed('_c15','nm')\\\n",
    "    .withColumnRenamed('_c16','comp')\\\n",
    "    .withColumnRenamed('_c17','bairro')\\\n",
    "    .withColumnRenamed('_c18','CEP')\\\n",
    "    .withColumnRenamed('_c19','UF')\\\n",
    "    .withColumnRenamed('_c20','municipio')\\\n",
    "    .withColumnRenamed('_c21','ddd1')\\\n",
    "    .withColumnRenamed('_c22','tel1')\\\n",
    "    .withColumnRenamed('_c23','ddd2')\\\n",
    "    .withColumnRenamed('_c24','tel2')\\\n",
    "    .withColumnRenamed('_c25','ddd_fax')\\\n",
    "    .withColumnRenamed('_c26','fax')\\\n",
    "    .withColumnRenamed('_c27','email')\\\n",
    "    .withColumnRenamed('_c28','sit_esp')\\\n",
    "    .withColumnRenamed('_c29','dt_sit_esp')\n"
   ]
  },
  {
   "cell_type": "code",
   "execution_count": 20,
   "id": "b9154d13",
   "metadata": {},
   "outputs": [
    {
     "data": {
      "text/plain": [
       "['CNPJ_basico',\n",
       " 'CNPJ_ordem',\n",
       " 'CNPJ_dv',\n",
       " 'id_matriz_filial',\n",
       " 'nome_fantasia',\n",
       " 'sit_cad',\n",
       " 'dt_cad',\n",
       " 'mt_sit_cad',\n",
       " 'cid_ext',\n",
       " 'pais',\n",
       " 'dt_inicio_at',\n",
       " 'cnae_principal',\n",
       " 'cnae_secundario',\n",
       " 'tp_log',\n",
       " 'log',\n",
       " 'nm',\n",
       " 'comp',\n",
       " 'bairro',\n",
       " 'CEP',\n",
       " 'UF',\n",
       " 'municipio',\n",
       " 'ddd1',\n",
       " 'tel1',\n",
       " 'ddd2',\n",
       " 'tel2',\n",
       " 'ddd_fax',\n",
       " 'fax',\n",
       " 'email',\n",
       " 'sit_esp',\n",
       " 'dt_sit_esp']"
      ]
     },
     "execution_count": 20,
     "metadata": {},
     "output_type": "execute_result"
    }
   ],
   "source": [
    "csv_to_DF.columns"
   ]
  },
  {
   "cell_type": "code",
   "execution_count": 21,
   "id": "f722d05c",
   "metadata": {},
   "outputs": [],
   "source": [
    "# Select no DF principal para deixar uma saída mais limpa, tirando dados sensíveis como telefone e email\n",
    "df_select = csv_to_DF.select('CNPJ_basico',\n",
    "                             'id_matriz_filial', \n",
    "                             'nome_fantasia',\n",
    "                             'sit_cad', \n",
    "                             'dt_cad', \n",
    "                             'mt_sit_cad', \n",
    "                             'dt_inicio_at', \n",
    "                             'cnae_principal', \n",
    "                             'cnae_secundario', \n",
    "                             'tp_log', \n",
    "                             'log', \n",
    "                             'nm', \n",
    "                             'comp', \n",
    "                             'bairro', \n",
    "                             'CEP', \n",
    "                             'UF', \n",
    "                             'municipio') "
   ]
  },
  {
   "cell_type": "code",
   "execution_count": 22,
   "id": "8c24740c",
   "metadata": {},
   "outputs": [
    {
     "name": "stdout",
     "output_type": "stream",
     "text": [
      "+-----------+----------------+--------------------+-------+--------+----------+------------+--------------+--------------------+-------+--------------------+----+--------------------+--------------------+--------+---+---------+\n",
      "|CNPJ_basico|id_matriz_filial|       nome_fantasia|sit_cad|  dt_cad|mt_sit_cad|dt_inicio_at|cnae_principal|     cnae_secundario| tp_log|                 log|  nm|                comp|              bairro|     CEP| UF|municipio|\n",
      "+-----------+----------------+--------------------+-------+--------+----------+------------+--------------+--------------------+-------+--------------------+----+--------------------+--------------------+--------+---+---------+\n",
      "|   11124181|               1|        WOG MADEIRAS|     04|20181017|        63|    20090908|       4744002|             4671100|    RUA| 10 CHACARA 148 LOTE|  06|LOJA  01         ...|          TAGUATINGA|72110800| DF|     9701|\n",
      "|   11124191|               1|            PRN RUAS|     04|20190328|        63|    20090909|       4930201|                null|AVENIDA|AVENIDA EUCLIDES ...|  SN|  LOTE  34 QUADRA 34|       VILA SAO JOAO|25570162| RJ|     5901|\n",
      "|   02180764|               2|                null|     08|20151208|        01|    20090909|       4784900|                null|    RUA|ROMARIO DE AZERED...|  50|       LOTE  18 QD H|        MANGUEIRINHA|28800000| RJ|     5885|\n",
      "|   11124219|               1|   LAVA JATO ALIANCA|     08|20170511|        01|    20090908|       4520005|                null| QUADRA| SHCS SQ 107 BLOCO A| S/N|      PAG        ...|             ASA SUL|70346500| DF|     9701|\n",
      "|   11124231|               1|VIVARTE EVENTOS E...|     04|20210226|        63|    20090903|       8230001|                null|    RUA|PROFESSOR ANIBAL ...|  64|                null|    JARDIM SAO JORGE|04432060| SP|     7107|\n",
      "|   11124243|               1|                null|     04|20210226|        63|    20090813|       4759899|             4772500|    RUA|           SAO CELSO| 253|                : B;|       VILA DOMITILA|03626000| SP|     7107|\n",
      "|   11124254|               1|         ULTIMO GOLE|     04|20180828|        63|    20090902|       9329801|5611204,5611203,5...|AVENIDA|     GABRIEL ZANETTE|1500|                null|               CEARA|88815060| SC|     8089|\n",
      "|   11124266|               1|                null|     08|20210826|        01|    20090902|       8630504|     3250706,8640205|    RUA|DJANIRA MARIA BASTOS|1497|          : 1 ANDAR;|                CAJI|42700130| BA|     3685|\n",
      "|   04591749|               2|          A CICLISTA|     02|20090910|        00|    20090910|       4763603|             4530705|    RUA|          LENINGRADO| 114|      QD 237     ...|         NOVA CIDADE|69097234| AM|     0255|\n",
      "|   11124289|               1|      ESCOLA DOM UNO|     02|20090812|        00|    20090812|       8512100|             8513900|    RUA|    DONA MARIA LEITE| 197|                null|       VILA NOGUEIRA|09960450| SP|     6377|\n",
      "|   11124304|               1|          PAO DE MEL|     02|20090909|        00|    20090909|       1091101|4637104,4637101,4...|    RUA|        INACIO TALON| 136|               E 140|MORRO DO COCO, 12...|28178000| RJ|     5819|\n",
      "|   11124314|               1|         SSR IMOVEIS|     04|20180925|        63|    20090828|       4110700|             4120400|    RUA|        CAPITAO CRUZ| 328|                null|        VISTA ALEGRE|21250520| RJ|     6001|\n",
      "|   11124330|               1|                null|     02|20090908|        00|    20090908|       8230001|     6319400,6311900|    RUA|     CLIMACO BARBOSA| 301|                null|             CAMBUCI|01523000| SP|     7107|\n",
      "|   11124346|               1|L. APARECIDA DE F...|     01|20090910|        70|    20090910|       9602501|                null|    RUA|            SAO JOSE| 375|EDIF: SHOPPING SA...|              CENTRO|36500001| MG|     5397|\n",
      "|   10832936|               2|                null|     08|20130208|        01|    20090813|       6622300|                null|    RUA|            PACAEMBU|  47|                null|   JARDIM PAULISTANO|18040710| SP|     7145|\n",
      "|   20295586|               1|     RODRIGO CANDIDO|     08|20160128|        01|    20140521|       7319002|4520005,9609299,4...|AVENIDA|   JOAQUIM MAGALHAES| 180|    BLOCO 16;APT 204| SENADOR VASCONCELOS|23012120| RJ|     6001|\n",
      "|   11124389|               1|ROSSI TRANSPORTES...|     02|20090910|        00|    20090910|       4923001|             4772500|    RUA|LUCIA FORECHI NIC...|  88|                null|       SANTO ANTONIO|29704025| ES|     5629|\n",
      "|   11124405|               1|         VELOXCIDADE|     04|20181024|        63|    20090909|       6110803|     6190601,4751201|    RUA|LEONARDO SALES DE...| 006|          SOBRE LOJA|            VALVERDE|26290816| RJ|     5869|\n",
      "|   11124418|               1|                null|     02|20090910|        00|    20090910|       7490199|5811500,5911199,7...|ESTRADA|               SIMON|S/N?|            SALA  02|            INTERIOR|89760000| SC|     8157|\n",
      "|   11124430|               1|WALTER CHURRASQUE...|     04|20181023|        63|    20090902|       4744099|                null|    RUA|             BELGICA| 805|                null|        JARDIM IGAPO|86046280| PR|     7667|\n",
      "+-----------+----------------+--------------------+-------+--------+----------+------------+--------------+--------------------+-------+--------------------+----+--------------------+--------------------+--------+---+---------+\n",
      "only showing top 20 rows\n",
      "\n"
     ]
    }
   ],
   "source": [
    "df_select.show()"
   ]
  },
  {
   "cell_type": "markdown",
   "id": "a64fe379",
   "metadata": {},
   "source": [
    "Para facilitar as próximas manipulações dos dados iremos persistir esses dados previamente limpos em uma tabela não gerenciada e carregar em uma pasta com o nome Bronze, essa pasta irá alimentar nosso bucket na GCP"
   ]
  },
  {
   "cell_type": "code",
   "execution_count": 26,
   "id": "2a407e53",
   "metadata": {},
   "outputs": [
    {
     "name": "stderr",
     "output_type": "stream",
     "text": [
      "                                                                                \r"
     ]
    }
   ],
   "source": [
    "df_select.write.mode(\"overwrite\").option(\"path\",\"/media/douglas/DATA/PRJ_CNPJ/new_data/ETL/02.Bronze\").saveAsTable(\"CNPJ\")"
   ]
  }
 ],
 "metadata": {
  "kernelspec": {
   "display_name": "Python 3 (ipykernel)",
   "language": "python",
   "name": "python3"
  },
  "language_info": {
   "codemirror_mode": {
    "name": "ipython",
    "version": 3
   },
   "file_extension": ".py",
   "mimetype": "text/x-python",
   "name": "python",
   "nbconvert_exporter": "python",
   "pygments_lexer": "ipython3",
   "version": "3.8.10"
  }
 },
 "nbformat": 4,
 "nbformat_minor": 5
}
